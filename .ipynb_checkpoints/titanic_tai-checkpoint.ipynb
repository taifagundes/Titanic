{
 "cells": [
  {
   "cell_type": "code",
   "execution_count": 1,
   "id": "9c616615-12da-47ef-a06b-865c74e0512a",
   "metadata": {},
   "outputs": [],
   "source": [
    "import pandas as pd"
   ]
  },
  {
   "cell_type": "code",
   "execution_count": 4,
   "id": "7dca1994-4593-480d-a297-a97f039f768e",
   "metadata": {},
   "outputs": [],
   "source": [
    "dados = pd.read_csv('titanic.csv')"
   ]
  },
  {
   "cell_type": "code",
   "execution_count": 5,
   "id": "6ae79207-1859-42fe-ab2a-6bb1d611a413",
   "metadata": {},
   "outputs": [],
   "source": [
    "titanic = dados.loc[(dados['Sex'] == 'female') & (dados['Pclass'] == 1) & (dados['Survived'] == 1), ['Name', 'Age', 'Sex', 'Pclass', 'Survived']]"
   ]
  },
  {
   "cell_type": "code",
   "execution_count": 6,
   "id": "d5904001-e68b-4f22-9303-4ef88453cfc6",
   "metadata": {},
   "outputs": [],
   "source": [
    "titanic_subset = titanic[['Name', 'Age', 'Sex', 'Pclass', 'Survived']]"
   ]
  },
  {
   "cell_type": "code",
   "execution_count": 7,
   "id": "59d955ca-3d13-4128-a1f3-168145d59823",
   "metadata": {},
   "outputs": [],
   "source": [
    "titanic_subset.to_csv('titanic_subset.csv', index=False)"
   ]
  }
 ],
 "metadata": {
  "kernelspec": {
   "display_name": "Python 3 (ipykernel)",
   "language": "python",
   "name": "python3"
  },
  "language_info": {
   "codemirror_mode": {
    "name": "ipython",
    "version": 3
   },
   "file_extension": ".py",
   "mimetype": "text/x-python",
   "name": "python",
   "nbconvert_exporter": "python",
   "pygments_lexer": "ipython3",
   "version": "3.9.7"
  }
 },
 "nbformat": 4,
 "nbformat_minor": 5
}
